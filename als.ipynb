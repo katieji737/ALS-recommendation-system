{
 "cells": [
  {
   "cell_type": "code",
   "execution_count": 2,
   "metadata": {},
   "outputs": [],
   "source": [
    "import pandas as pd"
   ]
  },
  {
   "cell_type": "code",
   "execution_count": 3,
   "metadata": {},
   "outputs": [],
   "source": [
    "#importing the findspark and entering the path where the spark 2.3.0 is installed\n",
    "import findspark\n",
    "findspark.init()"
   ]
  },
  {
   "cell_type": "code",
   "execution_count": 4,
   "metadata": {},
   "outputs": [],
   "source": [
    "#importing the pyspark \n",
    "import pyspark"
   ]
  },
  {
   "cell_type": "code",
   "execution_count": 5,
   "metadata": {},
   "outputs": [],
   "source": [
    "#creating a spark session from the pyspark.sql\n",
    "from pyspark.sql import SparkSession\n",
    "spark = SparkSession.builder.getOrCreate()"
   ]
  },
  {
   "cell_type": "code",
   "execution_count": 6,
   "metadata": {},
   "outputs": [
    {
     "name": "stdout",
     "output_type": "stream",
     "text": [
      "+-----+\n",
      "|hello|\n",
      "+-----+\n",
      "|spark|\n",
      "+-----+\n",
      "\n"
     ]
    }
   ],
   "source": [
    "#creating a sample dataframe to test whether the spark sql is running or not\n",
    "df = spark.sql('''Select 'spark' as hello ''')\n",
    "df.show()"
   ]
  },
  {
   "cell_type": "code",
   "execution_count": 7,
   "metadata": {},
   "outputs": [],
   "source": [
    "#Using the jupyter it automatically creates the SparkContext(sc) and now we need to create the SQLContext with in the spark context\n",
    "from pyspark.sql import SQLContext"
   ]
  },
  {
   "cell_type": "code",
   "execution_count": 8,
   "metadata": {},
   "outputs": [],
   "source": [
    "#initializing the spark session and spark context\n",
    "sqlContext = SQLContext(sparkContext=spark.sparkContext, sparkSession=spark)"
   ]
  },
  {
   "cell_type": "code",
   "execution_count": 9,
   "metadata": {},
   "outputs": [
    {
     "data": {
      "text/html": [
       "<div>\n",
       "<style scoped>\n",
       "    .dataframe tbody tr th:only-of-type {\n",
       "        vertical-align: middle;\n",
       "    }\n",
       "\n",
       "    .dataframe tbody tr th {\n",
       "        vertical-align: top;\n",
       "    }\n",
       "\n",
       "    .dataframe thead th {\n",
       "        text-align: right;\n",
       "    }\n",
       "</style>\n",
       "<table border=\"1\" class=\"dataframe\">\n",
       "  <thead>\n",
       "    <tr style=\"text-align: right;\">\n",
       "      <th></th>\n",
       "      <th>product_id</th>\n",
       "      <th>product_name</th>\n",
       "      <th>department_id</th>\n",
       "    </tr>\n",
       "  </thead>\n",
       "  <tbody>\n",
       "    <tr>\n",
       "      <th>0</th>\n",
       "      <td>1</td>\n",
       "      <td>Chocolate Sandwich Cookies</td>\n",
       "      <td>19</td>\n",
       "    </tr>\n",
       "    <tr>\n",
       "      <th>1</th>\n",
       "      <td>2</td>\n",
       "      <td>All-Seasons Salt</td>\n",
       "      <td>13</td>\n",
       "    </tr>\n",
       "    <tr>\n",
       "      <th>2</th>\n",
       "      <td>3</td>\n",
       "      <td>Robust Golden Unsweetened Oolong Tea</td>\n",
       "      <td>7</td>\n",
       "    </tr>\n",
       "    <tr>\n",
       "      <th>3</th>\n",
       "      <td>4</td>\n",
       "      <td>Smart Ones Classic Favorites Mini Rigatoni Wit...</td>\n",
       "      <td>1</td>\n",
       "    </tr>\n",
       "    <tr>\n",
       "      <th>4</th>\n",
       "      <td>5</td>\n",
       "      <td>Green Chile Anytime Sauce</td>\n",
       "      <td>13</td>\n",
       "    </tr>\n",
       "  </tbody>\n",
       "</table>\n",
       "</div>"
      ],
      "text/plain": [
       "   product_id                                       product_name  \\\n",
       "0           1                         Chocolate Sandwich Cookies   \n",
       "1           2                                   All-Seasons Salt   \n",
       "2           3               Robust Golden Unsweetened Oolong Tea   \n",
       "3           4  Smart Ones Classic Favorites Mini Rigatoni Wit...   \n",
       "4           5                          Green Chile Anytime Sauce   \n",
       "\n",
       "   department_id  \n",
       "0             19  \n",
       "1             13  \n",
       "2              7  \n",
       "3              1  \n",
       "4             13  "
      ]
     },
     "execution_count": 9,
     "metadata": {},
     "output_type": "execute_result"
    }
   ],
   "source": [
    "product = pd.read_csv('/Users/katie/Desktop/kz/products.csv')\n",
    "product.head()"
   ]
  },
  {
   "cell_type": "code",
   "execution_count": 10,
   "metadata": {},
   "outputs": [
    {
     "data": {
      "text/html": [
       "<div>\n",
       "<style scoped>\n",
       "    .dataframe tbody tr th:only-of-type {\n",
       "        vertical-align: middle;\n",
       "    }\n",
       "\n",
       "    .dataframe tbody tr th {\n",
       "        vertical-align: top;\n",
       "    }\n",
       "\n",
       "    .dataframe thead th {\n",
       "        text-align: right;\n",
       "    }\n",
       "</style>\n",
       "<table border=\"1\" class=\"dataframe\">\n",
       "  <thead>\n",
       "    <tr style=\"text-align: right;\">\n",
       "      <th></th>\n",
       "      <th>order_id</th>\n",
       "      <th>product_id</th>\n",
       "      <th>add_to_cart_order</th>\n",
       "    </tr>\n",
       "  </thead>\n",
       "  <tbody>\n",
       "    <tr>\n",
       "      <th>0</th>\n",
       "      <td>1</td>\n",
       "      <td>49302</td>\n",
       "      <td>1</td>\n",
       "    </tr>\n",
       "    <tr>\n",
       "      <th>1</th>\n",
       "      <td>1</td>\n",
       "      <td>11109</td>\n",
       "      <td>2</td>\n",
       "    </tr>\n",
       "    <tr>\n",
       "      <th>2</th>\n",
       "      <td>1</td>\n",
       "      <td>10246</td>\n",
       "      <td>3</td>\n",
       "    </tr>\n",
       "    <tr>\n",
       "      <th>3</th>\n",
       "      <td>1</td>\n",
       "      <td>49683</td>\n",
       "      <td>4</td>\n",
       "    </tr>\n",
       "    <tr>\n",
       "      <th>4</th>\n",
       "      <td>1</td>\n",
       "      <td>43633</td>\n",
       "      <td>5</td>\n",
       "    </tr>\n",
       "  </tbody>\n",
       "</table>\n",
       "</div>"
      ],
      "text/plain": [
       "   order_id  product_id  add_to_cart_order\n",
       "0         1       49302                  1\n",
       "1         1       11109                  2\n",
       "2         1       10246                  3\n",
       "3         1       49683                  4\n",
       "4         1       43633                  5"
      ]
     },
     "execution_count": 10,
     "metadata": {},
     "output_type": "execute_result"
    }
   ],
   "source": [
    "order = pd.read_csv('/Users/katie/Desktop/kz/order-product.csv')\n",
    "order.head()"
   ]
  },
  {
   "cell_type": "code",
   "execution_count": 11,
   "metadata": {},
   "outputs": [],
   "source": [
    "from pyspark.ml.evaluation import RegressionEvaluator\n",
    "from pyspark.ml.recommendation import ALS"
   ]
  },
  {
   "cell_type": "code",
   "execution_count": 12,
   "metadata": {},
   "outputs": [],
   "source": [
    "prod_data =sqlContext.read.load('/Users/katie/Desktop/kz/products.csv',\n",
    "                                format='com.databricks.spark.csv',header='true',inferSchema='true')"
   ]
  },
  {
   "cell_type": "code",
   "execution_count": 13,
   "metadata": {
    "scrolled": true
   },
   "outputs": [
    {
     "name": "stdout",
     "output_type": "stream",
     "text": [
      "+-------+------------------+--------------------+------------------+\n",
      "|summary|        product_id|        product_name|     department_id|\n",
      "+-------+------------------+--------------------+------------------+\n",
      "|  count|             49688|               49688|             49688|\n",
      "|   mean|           24844.5|              1493.0|11.728580916537524|\n",
      "| stddev|14343.834424588147|   620.4329133758138| 5.850420587359203|\n",
      "|    min|                 1|\"\"\"Constant Comme...|           Blunted|\n",
      "|    max|             49688|with a Splash of ...|                 9|\n",
      "+-------+------------------+--------------------+------------------+\n",
      "\n"
     ]
    }
   ],
   "source": [
    "prod_data.describe().show()"
   ]
  },
  {
   "cell_type": "code",
   "execution_count": 14,
   "metadata": {},
   "outputs": [],
   "source": [
    "order_data =sqlContext.read.load('/Users/katie/Desktop/kz/order-product.csv',\n",
    "                                 format='com.databricks.spark.csv',header='true',inferSchema='true')"
   ]
  },
  {
   "cell_type": "code",
   "execution_count": 15,
   "metadata": {},
   "outputs": [
    {
     "name": "stdout",
     "output_type": "stream",
     "text": [
      "+-------+------------------+------------------+-----------------+\n",
      "|summary|          order_id|        product_id|add_to_cart_order|\n",
      "+-------+------------------+------------------+-----------------+\n",
      "|  count|           1048575|           1048575|          1048575|\n",
      "|   mean|1289710.0699845029| 25559.30180578404|  8.7418372553227|\n",
      "| stddev| 748377.6731595509|14118.370817735338|7.411503175819715|\n",
      "|    min|                 1|                 1|                1|\n",
      "|    max|           2593147|             49688|               80|\n",
      "+-------+------------------+------------------+-----------------+\n",
      "\n"
     ]
    }
   ],
   "source": [
    "order_data.describe().show()"
   ]
  },
  {
   "cell_type": "code",
   "execution_count": 16,
   "metadata": {},
   "outputs": [],
   "source": [
    "final=order_data.join(prod_data, [\"product_id\"])"
   ]
  },
  {
   "cell_type": "code",
   "execution_count": 17,
   "metadata": {},
   "outputs": [
    {
     "name": "stdout",
     "output_type": "stream",
     "text": [
      "+----------+--------+-----------------+--------------------+-------------+\n",
      "|product_id|order_id|add_to_cart_order|        product_name|department_id|\n",
      "+----------+--------+-----------------+--------------------+-------------+\n",
      "|     49302|       1|                1|    Bulgarian Yogurt|           16|\n",
      "|     11109|       1|                2|Organic 4% Milk F...|           16|\n",
      "|     10246|       1|                3|Organic Celery He...|            4|\n",
      "|     49683|       1|                4|      Cucumber Kirby|            4|\n",
      "|     43633|       1|                5|Lightly Smoked Sa...|           15|\n",
      "|     13176|       1|                6|Bag of Organic Ba...|            4|\n",
      "|     47209|       1|                7|Organic Hass Avocado|            4|\n",
      "|     22035|       1|                8|Organic Whole Str...|           16|\n",
      "|     39612|      36|                1|Grated Pecorino R...|           16|\n",
      "|     19660|      36|                2|        Spring Water|            7|\n",
      "|     49235|      36|                3| Organic Half & Half|           16|\n",
      "|     43086|      36|                4|  Super Greens Salad|            4|\n",
      "|     46620|      36|                5|Cage Free Extra L...|           16|\n",
      "|     34497|      36|                6|Prosciutto, Ameri...|           20|\n",
      "|     48679|      36|                7|Organic Garnet Sw...|            4|\n",
      "|     46979|      36|                8|           Asparagus|            4|\n",
      "|     11913|      38|                1|  Shelled Pistachios|           19|\n",
      "|     18159|      38|                2|Organic Biologiqu...|            4|\n",
      "|      4461|      38|                3|Organic Raw Unfil...|           13|\n",
      "|     21616|      38|                4|Organic Baby Arugula|            4|\n",
      "+----------+--------+-----------------+--------------------+-------------+\n",
      "only showing top 20 rows\n",
      "\n"
     ]
    }
   ],
   "source": [
    "final.show()"
   ]
  },
  {
   "cell_type": "code",
   "execution_count": 18,
   "metadata": {},
   "outputs": [],
   "source": [
    "# Smaller dataset so we will use 0.8 / 0.2\n",
    "(training, test) = order_data.randomSplit([0.9, 0.1])"
   ]
  },
  {
   "cell_type": "code",
   "execution_count": 19,
   "metadata": {},
   "outputs": [],
   "source": [
    "# Build the recommendation model using ALS on the training data\n",
    "als = ALS(maxIter=5, regParam=0.01, userCol=\"order_id\", itemCol=\"product_id\", ratingCol=\"add_to_cart_order\", \n",
    "          seed = 0, nonnegative =True, rank = 10)\n",
    "model = als.fit(training)"
   ]
  },
  {
   "cell_type": "code",
   "execution_count": 20,
   "metadata": {},
   "outputs": [],
   "source": [
    "# Evaluate the model by computing the RMSE on the test data\n",
    "predictions = model.transform(test)"
   ]
  },
  {
   "cell_type": "code",
   "execution_count": 21,
   "metadata": {},
   "outputs": [
    {
     "name": "stdout",
     "output_type": "stream",
     "text": [
      "+--------+----------+-----------------+----------+\n",
      "|order_id|product_id|add_to_cart_order|prediction|\n",
      "+--------+----------+-----------------+----------+\n",
      "|  732117|       148|               24| 14.726572|\n",
      "|  982020|       148|                8| 16.189732|\n",
      "|  134443|       148|               14|  7.490478|\n",
      "| 2350833|       148|                8| 7.3470254|\n",
      "| 2194412|       148|                8|  9.529991|\n",
      "| 2399918|       148|                3| 5.3127213|\n",
      "|  849006|       148|                7|  13.04732|\n",
      "|  202617|       148|                4| 1.9624496|\n",
      "| 1107031|       148|                5|   12.5258|\n",
      "| 1455311|       148|                3| 3.4409857|\n",
      "|  543415|       471|                5|  4.646825|\n",
      "|  822673|       471|                6| 4.5432596|\n",
      "| 2305080|       496|                6|0.71771514|\n",
      "| 1215936|      1238|                7|0.98448896|\n",
      "| 1289679|      2366|                1| 2.0956686|\n",
      "| 2180050|      4818|               14|  4.277628|\n",
      "| 2576430|      4818|                9|  5.436122|\n",
      "|  146540|      6336|               18| 19.390873|\n",
      "| 1026383|      6336|                6| 2.4451642|\n",
      "|  520153|      6336|               13|  8.858023|\n",
      "+--------+----------+-----------------+----------+\n",
      "only showing top 20 rows\n",
      "\n"
     ]
    }
   ],
   "source": [
    "predictions.show()"
   ]
  },
  {
   "cell_type": "code",
   "execution_count": 23,
   "metadata": {},
   "outputs": [],
   "source": [
    "#predictions.na().drop([\"prediction\"])"
   ]
  },
  {
   "cell_type": "code",
   "execution_count": 24,
   "metadata": {},
   "outputs": [],
   "source": [
    "#evaluator = RegressionEvaluator(metricName=\"rmse\", labelCol=\"add_to_cart_order\",predictionCol=\"prediction\")\n",
    "#rmse = evaluator.evaluate(predictions)\n",
    "#print(\"Root-mean-square error = \" + str(rmse))"
   ]
  },
  {
   "cell_type": "code",
   "execution_count": 22,
   "metadata": {},
   "outputs": [],
   "source": [
    "from pyspark.sql import SparkSession\n",
    "spark = SparkSession \\\n",
    "    .builder \\\n",
    "    .appName(\"Python Spark Feedforward neural network example\") \\\n",
    "    .config(\"spark.some.config.option\", \"some-value\") \\\n",
    "    .getOrCreate()"
   ]
  },
  {
   "cell_type": "code",
   "execution_count": null,
   "metadata": {},
   "outputs": [],
   "source": []
  }
 ],
 "metadata": {
  "kernelspec": {
   "display_name": "Python 3",
   "language": "python",
   "name": "python3"
  },
  "language_info": {
   "codemirror_mode": {
    "name": "ipython",
    "version": 3
   },
   "file_extension": ".py",
   "mimetype": "text/x-python",
   "name": "python",
   "nbconvert_exporter": "python",
   "pygments_lexer": "ipython3",
   "version": "3.6.4"
  }
 },
 "nbformat": 4,
 "nbformat_minor": 2
}
